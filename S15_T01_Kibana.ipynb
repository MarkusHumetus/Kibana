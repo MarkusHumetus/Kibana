{
 "cells": [
  {
   "cell_type": "markdown",
   "id": "dcd6be5a",
   "metadata": {},
   "source": [
    "## Descripció / _Description_"
   ]
  },
  {
   "cell_type": "markdown",
   "id": "81fbe001",
   "metadata": {},
   "source": [
    "Comencem a familiaritzar-nos la visualització interactiva de gràfics mitjançant Kibana.\n",
    "\n",
    "_Start getting familiar with interactive visualizations of graphics with Kibana._"
   ]
  },
  {
   "cell_type": "markdown",
   "id": "317c79e2",
   "metadata": {},
   "source": [
    "# Nivell / _Level_ 1"
   ]
  },
  {
   "cell_type": "markdown",
   "id": "432690a4",
   "metadata": {},
   "source": [
    "**- Exercici 1:**\n",
    "Descarrega't Kibana i mostra algunes gràfiques utilitzant conjunts de dades d'Exemple.\n",
    "\n",
    "_**- Exercise\n",
    " 1:**\n",
    "Download Kibana and show some graphs by using data sets from examples._"
   ]
  },
  {
   "cell_type": "code",
   "execution_count": 4,
   "id": "ca718977",
   "metadata": {},
   "outputs": [],
   "source": []
  },
  {
   "cell_type": "code",
   "execution_count": 5,
   "id": "62724d22",
   "metadata": {},
   "outputs": [],
   "source": []
  },
  {
   "cell_type": "markdown",
   "id": "8496cfc3",
   "metadata": {},
   "source": [
    "# Nivell / _Level_ 2"
   ]
  },
  {
   "cell_type": "markdown",
   "id": "95f1eefd",
   "metadata": {},
   "source": [
    "**- Exercici 1:**\n",
    "Implementa un dashboard que visualitzi interactivament les dades que triïs.\n",
    "\n",
    "_**- Exercise 1:**\n",
    "Implement a dashboard to visualize interactively the chosen data._"
   ]
  },
  {
   "cell_type": "code",
   "execution_count": null,
   "id": "1bce4e03",
   "metadata": {},
   "outputs": [],
   "source": []
  },
  {
   "cell_type": "code",
   "execution_count": null,
   "id": "81fd2028",
   "metadata": {},
   "outputs": [],
   "source": []
  },
  {
   "cell_type": "code",
   "execution_count": null,
   "id": "96f4fd2d",
   "metadata": {},
   "outputs": [],
   "source": []
  },
  {
   "cell_type": "code",
   "execution_count": null,
   "id": "b21c5063",
   "metadata": {},
   "outputs": [],
   "source": []
  },
  {
   "cell_type": "markdown",
   "id": "410a7858",
   "metadata": {},
   "source": [
    "# Nivell / _Level_ 3"
   ]
  },
  {
   "cell_type": "markdown",
   "id": "1e3c21d6",
   "metadata": {},
   "source": [
    "**- Exercici 1:**\n",
    "Implementa un dashboard que generi gràfics utilitzant cadascun dels diferents tipus de gràfics que ofereix Kibana.\n",
    "\n",
    "_**- Exercise 1:**\n",
    "Implement a dashboard which generate graphs of all kinds available in Kibana._"
   ]
  },
  {
   "cell_type": "code",
   "execution_count": null,
   "id": "787603e3",
   "metadata": {},
   "outputs": [],
   "source": []
  },
  {
   "cell_type": "markdown",
   "id": "3787c319",
   "metadata": {},
   "source": [
    "# Conclusions"
   ]
  },
  {
   "cell_type": "markdown",
   "id": "a5db97df",
   "metadata": {},
   "source": [
    "This exercise was useful to learn:\n",
    "1. How to create an account in MongoDB and install all required programs and libraries.\n",
    "2. Create a Data Base (local or hosted)  and its structure: collection(~table) + documents (~registers).\n",
    "3. Update or delete DDBB, collections or documents using Python. (same can be performed in Mongo shell comand)\n",
    "4. Find (query) searches according different conditions and export them to panda's data frame.\n",
    "5. Practice to summarise relevant info from a data base."
   ]
  },
  {
   "cell_type": "markdown",
   "id": "b4cfd31f",
   "metadata": {},
   "source": [
    "To generate file with the libraries installed in the environment used to run the notebook:"
   ]
  },
  {
   "cell_type": "code",
   "execution_count": 38,
   "id": "995b706c",
   "metadata": {},
   "outputs": [],
   "source": [
    "!pip list > requirements.txt "
   ]
  },
  {
   "cell_type": "markdown",
   "id": "7cdc8808",
   "metadata": {
    "ExecuteTime": {
     "end_time": "2022-05-16T09:40:58.284424Z",
     "start_time": "2022-05-16T09:40:58.272457Z"
    }
   },
   "source": [
    "Tutorials MongoDB:\n",
    " * [Video de instalación de MongoDB y como funciona](https://www.youtube.com/watch?v=c8n6JsQuX2A)\n",
    " * [Crash Course MongoDB](https://www.youtube.com/watch?v=qWYx5neOh2s)\n",
    " * [Video tutorial para trabajar con DDBB y MongoDB en local](https://www.youtube.com/watch?v=pJO5gKxzsco)\n",
    " * [Use of regex in the search in MongoDB](https://www.youtube.com/watch?v=DxjSG8jUGs8)\n",
    " * [Use of regex in the search in MongoDB 2](https://www.youtube.com/watch?v=ph2CYfAfM_o)"
   ]
  },
  {
   "cell_type": "markdown",
   "id": "6d0e20d3",
   "metadata": {},
   "source": []
  }
 ],
 "metadata": {
  "kernelspec": {
   "display_name": "Python 3.7.12 ('EDA_i_ML_37')",
   "language": "python",
   "name": "python3"
  },
  "language_info": {
   "codemirror_mode": {
    "name": "ipython",
    "version": 3
   },
   "file_extension": ".py",
   "mimetype": "text/x-python",
   "name": "python",
   "nbconvert_exporter": "python",
   "pygments_lexer": "ipython3",
   "version": "3.7.12"
  },
  "latex_envs": {
   "LaTeX_envs_menu_present": true,
   "autoclose": false,
   "autocomplete": true,
   "bibliofile": "biblio.bib",
   "cite_by": "apalike",
   "current_citInitial": 1,
   "eqLabelWithNumbers": true,
   "eqNumInitial": 1,
   "hotkeys": {
    "equation": "Ctrl-E",
    "itemize": "Ctrl-I"
   },
   "labels_anchors": false,
   "latex_user_defs": false,
   "report_style_numbering": false,
   "user_envs_cfg": false
  },
  "vscode": {
   "interpreter": {
    "hash": "5f47ed41b184a58013d23a9edf20bf096ea20fc31e35ba23cb9e7edce9e72725"
   }
  }
 },
 "nbformat": 4,
 "nbformat_minor": 5
}
