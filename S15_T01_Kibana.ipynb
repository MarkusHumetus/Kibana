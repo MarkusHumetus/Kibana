{
 "cells": [
  {
   "cell_type": "code",
   "execution_count": 3,
   "id": "28a850ca",
   "metadata": {},
   "outputs": [],
   "source": [
    "import pymongo  "
   ]
  },
  {
   "cell_type": "markdown",
   "id": "dcd6be5a",
   "metadata": {},
   "source": [
    "## Descripció / _Description_"
   ]
  },
  {
   "cell_type": "markdown",
   "id": "81fbe001",
   "metadata": {},
   "source": [
    "Comencem a familiaritzar-nos amb bases de dades NoSQL!!! Comencem amb uns quants exercicis bàsics.\n",
    "\n",
    "_Start getting familiar with data bases nonSQL!! We begin with some basic exercises_"
   ]
  },
  {
   "cell_type": "markdown",
   "id": "317c79e2",
   "metadata": {},
   "source": [
    "# Nivell / _Level_ 1"
   ]
  },
  {
   "cell_type": "markdown",
   "id": "432690a4",
   "metadata": {},
   "source": [
    "**- Exercici 1:**\n",
    "Crea una base de dades NoSQL utilitzant MongoDB. Afegeix-li algunes dades d'exemple que et permetin comprovar que ets capaç de processar-ne la informació de manera bàsica.\n",
    "\n",
    "_**- Exercise\n",
    " 1:**\n",
    "Create a NoSQL database using MongoDB. Insert to it some data to demonstrate you are able to process the infromation in a basic way._"
   ]
  },
  {
   "cell_type": "code",
   "execution_count": 4,
   "id": "ca718977",
   "metadata": {},
   "outputs": [],
   "source": [
    "from pymongo import MongoClient"
   ]
  },
  {
   "cell_type": "markdown",
   "id": "e43cdab9",
   "metadata": {},
   "source": [
    "Open the program **MongoDB Compass** and connect to database (local in this case, but it could be hosted), program previously installed see [readme.md](https://github.com/MarkusHumetus/Bases_de_dades_NoSQL/blob/main/README.md)."
   ]
  },
  {
   "cell_type": "code",
   "execution_count": 5,
   "id": "62724d22",
   "metadata": {},
   "outputs": [],
   "source": [
    "client = MongoClient('localhost',\n",
    "            port=27017,\n",
    "            ) #connection to DDBB\n",
    "            \n",
    "db = client['prueba'] #generate a DDBB with name prueba (no prob if it already exists!)\n",
    "\n",
    "col = db['personas'] #generate a collection with the name personas (no prob if it already exists!)\n",
    "#col.delete_many({}) to empty de collection of documents"
   ]
  },
  {
   "cell_type": "code",
   "execution_count": 239,
   "metadata": {},
   "outputs": [
    {
     "data": {
      "text/plain": [
       "<pymongo.results.InsertOneResult at 0x255525f3d48>"
      ]
     },
     "execution_count": 239,
     "metadata": {},
     "output_type": "execute_result"
    }
   ],
   "source": [
    "col.insert_one({'age': 20, \n",
    "                'name': 'Maria', \n",
    "                'hobbies':['cooking repostery','yoga']\n",
    "                }\n",
    "                )"
   ]
  },
  {
   "cell_type": "code",
   "execution_count": 240,
   "id": "6ba7aced",
   "metadata": {},
   "outputs": [
    {
     "data": {
      "text/plain": [
       "<pymongo.results.InsertManyResult at 0x2553d3b0908>"
      ]
     },
     "execution_count": 240,
     "metadata": {},
     "output_type": "execute_result"
    }
   ],
   "source": [
    "#how to insert many register in one time\n",
    "col.insert_many([{'age': 33, \n",
    "                'name': 'Marc', \n",
    "                'hobbies':['cinema', 'reading books', 'coding python']\n",
    "                },\n",
    "                {'age': 55, \n",
    "                'name': 'Helena', \n",
    "                'hobbies':['dancing', 'cooking']\n",
    "                },\n",
    "                {'age': 19, \n",
    "                'name': 'Isabel', \n",
    "                'hobbies':['play cards', 'swimming']\n",
    "                },\n",
    "                {'age': 48, \n",
    "                'name': 'Marc', \n",
    "                'hobbies':['hockey', 'canyoning', 'reading books', 'coding python']\n",
    "                }\n",
    "                ])"
   ]
  },
  {
   "cell_type": "code",
   "execution_count": 241,
   "id": "fc0102c0",
   "metadata": {},
   "outputs": [
    {
     "name": "stdout",
     "output_type": "stream",
     "text": [
      "Names of DDBB in MongoDB: ['admin', 'config', 'local', 'prueba', 'test_DDBB']\n",
      "Collection's names in the DB 'prueba': ['personas']\n",
      "Number of documents in the collecion 'personas': 5 \n"
     ]
    }
   ],
   "source": [
    "print(f\"Names of DDBB in MongoDB: {client.list_database_names()}\")\n",
    "print(f\"Collection's names in the DB 'prueba': {db.list_collection_names()}\")\n",
    "print(f\"Number of documents in the collecion 'personas': {col.count_documents({})} \")"
   ]
  },
  {
   "cell_type": "markdown",
   "id": "a52edbae",
   "metadata": {},
   "source": [
    "One document is introduced directly with mongoDB Compass program."
   ]
  },
  {
   "cell_type": "code",
   "execution_count": 242,
   "id": "a5e3611e",
   "metadata": {},
   "outputs": [
    {
     "name": "stdout",
     "output_type": "stream",
     "text": [
      "Names of DDBB in MongoDB: ['admin', 'config', 'local', 'prueba', 'test_DDBB']\n",
      "Collection's names in the DB 'prueba': ['personas']\n",
      "Number of documents in the collecion 'personas': 6 \n"
     ]
    }
   ],
   "source": [
    "print(f\"Names of DDBB in MongoDB: {client.list_database_names()}\")\n",
    "print(f\"Collection's names in the DB 'prueba': {db.list_collection_names()}\")\n",
    "print(f\"Number of documents in the collecion 'personas': {col.count_documents({})} \")"
   ]
  },
  {
   "cell_type": "code",
   "execution_count": 30,
   "id": "1d751352",
   "metadata": {},
   "outputs": [],
   "source": [
    "client.close() #close the DB"
   ]
  },
  {
   "cell_type": "markdown",
   "id": "95f1eefd",
   "metadata": {},
   "source": [
    "**- Exercici 2:**\n",
    "Connecta la base de dades NoSQL a Python utilitzant per exemple pymongo.\n",
    "\n",
    "_**- Exercise 2:**\n",
    "Connect the data base NoSQL to Python (by using pymongo for instance)._"
   ]
  },
  {
   "cell_type": "markdown",
   "id": "a20ca91c",
   "metadata": {},
   "source": [
    "I generate a Data Base in an aleatory way from lists of names and hobbies extracted from internet. "
   ]
  },
  {
   "cell_type": "code",
   "execution_count": 6,
   "id": "cd7039eb",
   "metadata": {
    "ExecuteTime": {
     "end_time": "2022-05-16T09:02:06.300920Z",
     "start_time": "2022-05-16T09:02:06.264019Z"
    }
   },
   "outputs": [],
   "source": [
    "import pandas as pd\n",
    "import random"
   ]
  },
  {
   "cell_type": "code",
   "execution_count": 7,
   "id": "76b90782",
   "metadata": {},
   "outputs": [],
   "source": [
    "df_noms_hobbies=pd.read_csv(\"nombres y hobbies.csv\",engine='python', encoding='utf8',sep=';')"
   ]
  },
  {
   "cell_type": "code",
   "execution_count": 8,
   "id": "c328c05e",
   "metadata": {},
   "outputs": [
    {
     "data": {
      "text/html": [
       "<div>\n",
       "<style scoped>\n",
       "    .dataframe tbody tr th:only-of-type {\n",
       "        vertical-align: middle;\n",
       "    }\n",
       "\n",
       "    .dataframe tbody tr th {\n",
       "        vertical-align: top;\n",
       "    }\n",
       "\n",
       "    .dataframe thead th {\n",
       "        text-align: right;\n",
       "    }\n",
       "</style>\n",
       "<table border=\"1\" class=\"dataframe\">\n",
       "  <thead>\n",
       "    <tr style=\"text-align: right;\">\n",
       "      <th></th>\n",
       "      <th>Unnamed: 0</th>\n",
       "      <th>Nombres de niña</th>\n",
       "      <th>Nombres de niño</th>\n",
       "      <th>Hobbies</th>\n",
       "    </tr>\n",
       "  </thead>\n",
       "  <tbody>\n",
       "    <tr>\n",
       "      <th>0</th>\n",
       "      <td>NaN</td>\n",
       "      <td>Isabella</td>\n",
       "      <td>Daniel</td>\n",
       "      <td>abejas (crianza de abejas o apicultura)</td>\n",
       "    </tr>\n",
       "    <tr>\n",
       "      <th>1</th>\n",
       "      <td>NaN</td>\n",
       "      <td>Olivia</td>\n",
       "      <td>David</td>\n",
       "      <td>acroyoga</td>\n",
       "    </tr>\n",
       "    <tr>\n",
       "      <th>2</th>\n",
       "      <td>NaN</td>\n",
       "      <td>Alexis</td>\n",
       "      <td>Gabriel</td>\n",
       "      <td>actuar en teatro</td>\n",
       "    </tr>\n",
       "    <tr>\n",
       "      <th>3</th>\n",
       "      <td>NaN</td>\n",
       "      <td>Sofía</td>\n",
       "      <td>Benjamín</td>\n",
       "      <td>acuarios</td>\n",
       "    </tr>\n",
       "    <tr>\n",
       "      <th>4</th>\n",
       "      <td>NaN</td>\n",
       "      <td>Victoria</td>\n",
       "      <td>Samuel</td>\n",
       "      <td>aerobic</td>\n",
       "    </tr>\n",
       "    <tr>\n",
       "      <th>...</th>\n",
       "      <td>...</td>\n",
       "      <td>...</td>\n",
       "      <td>...</td>\n",
       "      <td>...</td>\n",
       "    </tr>\n",
       "    <tr>\n",
       "      <th>403</th>\n",
       "      <td>NaN</td>\n",
       "      <td>NaN</td>\n",
       "      <td>NaN</td>\n",
       "      <td>NaN</td>\n",
       "    </tr>\n",
       "    <tr>\n",
       "      <th>404</th>\n",
       "      <td>NaN</td>\n",
       "      <td>NaN</td>\n",
       "      <td>NaN</td>\n",
       "      <td>NaN</td>\n",
       "    </tr>\n",
       "    <tr>\n",
       "      <th>405</th>\n",
       "      <td>NaN</td>\n",
       "      <td>NaN</td>\n",
       "      <td>NaN</td>\n",
       "      <td>NaN</td>\n",
       "    </tr>\n",
       "    <tr>\n",
       "      <th>406</th>\n",
       "      <td>NaN</td>\n",
       "      <td>NaN</td>\n",
       "      <td>NaN</td>\n",
       "      <td>NaN</td>\n",
       "    </tr>\n",
       "    <tr>\n",
       "      <th>407</th>\n",
       "      <td>NaN</td>\n",
       "      <td>NaN</td>\n",
       "      <td>NaN</td>\n",
       "      <td>NaN</td>\n",
       "    </tr>\n",
       "  </tbody>\n",
       "</table>\n",
       "<p>408 rows × 4 columns</p>\n",
       "</div>"
      ],
      "text/plain": [
       "     Unnamed: 0 Nombres de niña Nombres de niño  \\\n",
       "0           NaN        Isabella          Daniel   \n",
       "1           NaN          Olivia           David   \n",
       "2           NaN          Alexis         Gabriel   \n",
       "3           NaN           Sofía        Benjamín   \n",
       "4           NaN        Victoria          Samuel   \n",
       "..          ...             ...             ...   \n",
       "403         NaN             NaN             NaN   \n",
       "404         NaN             NaN             NaN   \n",
       "405         NaN             NaN             NaN   \n",
       "406         NaN             NaN             NaN   \n",
       "407         NaN             NaN             NaN   \n",
       "\n",
       "                                     Hobbies  \n",
       "0    abejas (crianza de abejas o apicultura)  \n",
       "1                                   acroyoga  \n",
       "2                           actuar en teatro  \n",
       "3                                   acuarios  \n",
       "4                                    aerobic  \n",
       "..                                       ...  \n",
       "403                                      NaN  \n",
       "404                                      NaN  \n",
       "405                                      NaN  \n",
       "406                                      NaN  \n",
       "407                                      NaN  \n",
       "\n",
       "[408 rows x 4 columns]"
      ]
     },
     "execution_count": 8,
     "metadata": {},
     "output_type": "execute_result"
    }
   ],
   "source": [
    "df_noms_hobbies"
   ]
  },
  {
   "cell_type": "code",
   "execution_count": 9,
   "id": "ee82abf1",
   "metadata": {},
   "outputs": [
    {
     "name": "stdout",
     "output_type": "stream",
     "text": [
      "<class 'pandas.core.frame.DataFrame'>\n",
      "RangeIndex: 408 entries, 0 to 407\n",
      "Data columns (total 4 columns):\n",
      " #   Column           Non-Null Count  Dtype  \n",
      "---  ------           --------------  -----  \n",
      " 0   Unnamed: 0       0 non-null      float64\n",
      " 1   Nombres de niña  100 non-null    object \n",
      " 2   Nombres de niño  100 non-null    object \n",
      " 3   Hobbies          388 non-null    object \n",
      "dtypes: float64(1), object(3)\n",
      "memory usage: 12.9+ KB\n"
     ]
    }
   ],
   "source": [
    "df_noms_hobbies.info()"
   ]
  },
  {
   "cell_type": "code",
   "execution_count": 10,
   "id": "0cd3e74c",
   "metadata": {},
   "outputs": [],
   "source": [
    "names=list(df_noms_hobbies['Nombres de niña'])[:100] + list(df_noms_hobbies['Nombres de niño'])[:100]\n",
    "hobbies = nombres=list(df_noms_hobbies['Hobbies'])[:389] "
   ]
  },
  {
   "cell_type": "code",
   "execution_count": 101,
   "id": "5df7c9a3",
   "metadata": {},
   "outputs": [],
   "source": [
    "for i in range (0,500):\n",
    "    age = random.randint(10,105)\n",
    "    num_name = random.randint(0,199)\n",
    "    num_hobbies = random.randint(0,10)\n",
    "    hobbies_personal=[]\n",
    "    if num_hobbies>0:\n",
    "        for j in range (0,num_hobbies):\n",
    "            aleat_hobbie = random.randint(0,387)\n",
    "            hobbies_personal.append(hobbies[aleat_hobbie])\n",
    "    col.insert_one({'age': age, \n",
    "                'name': names[num_name], \n",
    "                'hobbies': hobbies_personal\n",
    "                }\n",
    "                )"
   ]
  },
  {
   "cell_type": "code",
   "execution_count": 29,
   "id": "1d1e3932",
   "metadata": {},
   "outputs": [
    {
     "name": "stdout",
     "output_type": "stream",
     "text": [
      "Names of DDBB in MongoDB: ['admin', 'config', 'local', 'prueba', 'test_DDBB']\n",
      "Collection's names in the DB 'prueba': ['personas']\n",
      "Number of documents in the collecion 'personas': 505 \n"
     ]
    }
   ],
   "source": [
    "print(f\"Names of DDBB in MongoDB: {client.list_database_names()}\")\n",
    "print(f\"Collection's names in the DB 'prueba': {db.list_collection_names()}\")\n",
    "print(f\"Number of documents in the collecion 'personas': {col.count_documents({})} \")"
   ]
  },
  {
   "cell_type": "markdown",
   "id": "637423c1",
   "metadata": {},
   "source": [
    "## Let's practice different operation with this DDBB: update, delete, find and set index."
   ]
  },
  {
   "cell_type": "markdown",
   "id": "df0cac75",
   "metadata": {},
   "source": [
    "### 1. Update"
   ]
  },
  {
   "cell_type": "code",
   "execution_count": null,
   "id": "76de31d0",
   "metadata": {},
   "outputs": [],
   "source": [
    "Carlos don't practice anymore wakeboarding, let's drop this hobbie from his list:"
   ]
  },
  {
   "cell_type": "code",
   "execution_count": 219,
   "id": "1d1b9e5b",
   "metadata": {},
   "outputs": [
    {
     "data": {
      "text/plain": [
       "{'_id': ObjectId('629f93a76f4726a671831042'),\n",
       " 'age': 37,\n",
       " 'name': 'Carlos',\n",
       " 'hobbies': ['wakeboard',\n",
       "  'vehiculos de control remoto (rc)',\n",
       "  'judo',\n",
       "  'electronica',\n",
       "  'trenes a escala',\n",
       "  'pintura artistica',\n",
       "  'deporte (ver deporte en tv/ online/ revistas o periodicos/ radio)']}"
      ]
     },
     "execution_count": 219,
     "metadata": {},
     "output_type": "execute_result"
    }
   ],
   "source": [
    " col.find_one({'age':37, 'name' : 'Carlos'} ) #inital info"
   ]
  },
  {
   "cell_type": "code",
   "execution_count": 221,
   "id": "692a9713",
   "metadata": {},
   "outputs": [
    {
     "data": {
      "text/plain": [
       "<pymongo.results.UpdateResult at 0x255560651c8>"
      ]
     },
     "execution_count": 221,
     "metadata": {},
     "output_type": "execute_result"
    }
   ],
   "source": [
    "myquery = {'age':37, 'name' : 'Carlos'}\n",
    "newvalues = { \"$set\": { \"hobbies\": ['vehiculos de control remoto (rc)',\n",
    "  'judo',\n",
    "  'electronica',\n",
    "  'trenes a escala',\n",
    "  'pintura artistica',\n",
    "  'deporte (ver deporte en tv/ online/ revistas o periodicos/ radio)'] } }\n",
    "\n",
    "col.update_one(myquery, newvalues)\n"
   ]
  },
  {
   "cell_type": "code",
   "execution_count": 222,
   "metadata": {},
   "outputs": [
    {
     "data": {
      "text/plain": [
       "{'_id': ObjectId('629f93a76f4726a671831042'),\n",
       " 'age': 37,\n",
       " 'name': 'Carlos',\n",
       " 'hobbies': ['vehiculos de control remoto (rc)',\n",
       "  'judo',\n",
       "  'electronica',\n",
       "  'trenes a escala',\n",
       "  'pintura artistica',\n",
       "  'deporte (ver deporte en tv/ online/ revistas o periodicos/ radio)']}"
      ]
     },
     "execution_count": 222,
     "metadata": {},
     "output_type": "execute_result"
    }
   ],
   "source": [
    " col.find_one({'age':37, 'name' : 'Carlos'} ) #final info (wakeboard is not in the list)"
   ]
  },
  {
   "cell_type": "markdown",
   "id": "5c8a2850",
   "metadata": {},
   "source": [
    "### 2. Delete"
   ]
  },
  {
   "cell_type": "markdown",
   "id": "a1ddfc49",
   "metadata": {},
   "source": [
    "We are going to delete the first document with the age ==20:"
   ]
  },
  {
   "cell_type": "code",
   "execution_count": 72,
   "id": "3893448c",
   "metadata": {},
   "outputs": [
    {
     "data": {
      "text/plain": [
       "{'_id': ObjectId('629f93a66f4726a671830ee7'),\n",
       " 'age': 20,\n",
       " 'name': 'Mauricio',\n",
       " 'hobbies': ['hacer vino', 'blog (y videoblog)', 'culturismo (body building)']}"
      ]
     },
     "execution_count": 72,
     "metadata": {},
     "output_type": "execute_result"
    }
   ],
   "source": [
    "col.find_one({'age':20}) #to check which document is."
   ]
  },
  {
   "cell_type": "code",
   "execution_count": 73,
   "id": "c7b2a91c",
   "metadata": {},
   "outputs": [
    {
     "data": {
      "text/plain": [
       "{'_id': ObjectId('629f93a66f4726a671830f87'),\n",
       " 'age': 20,\n",
       " 'name': 'Clara',\n",
       " 'hobbies': ['aromaterapia',\n",
       "  'limpieza de automoviles («detailing»)',\n",
       "  'manga y anime',\n",
       "  'ciencia (aficion a la)',\n",
       "  'capoeira']}"
      ]
     },
     "execution_count": 73,
     "metadata": {},
     "output_type": "execute_result"
    }
   ],
   "source": [
    "col.delete_one({'age':20})\n",
    "col.find_one({'age':20}) #to check if the previous document has been deleted."
   ]
  },
  {
   "cell_type": "code",
   "execution_count": 90,
   "id": "4bfff46c",
   "metadata": {},
   "outputs": [
    {
     "name": "stdout",
     "output_type": "stream",
     "text": [
      "{'_id': ObjectId('629f93a66f4726a671830f25'), 'age': 78, 'name': 'Carlos', 'hobbies': ['pasear', 'diseño de ropa (moda)', 'escultura', 'huerto casero', 'bingo']}\n",
      "{'_id': ObjectId('629f93a66f4726a671830f60'), 'age': 47, 'name': 'Carlos', 'hobbies': ['youtuber', 'observacion de trenes y aviones', 'arte digital', 'hockey sobre hierba', 'cocina', 'mindfulness o atención plena', 'hidroponia (cultivo en liquido)', 'restauracion de muebles', 'hapkido', 'damas (juego de)']}\n",
      "{'_id': ObjectId('629f93a76f4726a671831042'), 'age': 37, 'name': 'Carlos', 'hobbies': ['wakeboard', 'vehiculos de control remoto (rc)', 'judo', 'electronica', 'trenes a escala', 'pintura artistica', 'deporte (ver deporte en tv/ online/ revistas o periodicos/ radio)']}\n"
     ]
    }
   ],
   "source": [
    "asss = col.find({'name':r'Carlos'})\n",
    "for doc in asss:                                                       \n",
    "    print (doc) #to check which document is."
   ]
  },
  {
   "cell_type": "markdown",
   "id": "c682ad18",
   "metadata": {},
   "source": [
    "### 3. Find"
   ]
  },
  {
   "cell_type": "markdown",
   "id": "676bdd6e",
   "metadata": {},
   "source": [
    "Search of people aged > 65 years old and being youtuber as hobbie:"
   ]
  },
  {
   "cell_type": "code",
   "execution_count": 37,
   "id": "e50a9a9b",
   "metadata": {},
   "outputs": [
    {
     "name": "stdout",
     "output_type": "stream",
     "text": [
      "{'_id': ObjectId('629f93a66f4726a671830ea5'), 'age': 73, 'name': 'Óscar', 'hobbies': ['aikido', 'youtuber', 'visitar museos y exposiciones', 'fosiles (busqueda de)', 'autocaravanas', 'ballet', 'manga y anime', 'tejo (juego colombiano)', 'baloncesto']}\n",
      "{'_id': ObjectId('629f93a66f4726a671830f28'), 'age': 75, 'name': 'Alina', 'hobbies': ['bailar', 'comics (creacion de )', 'barcos de motor', 'toros (aficion a los)', 'podcasts (aficion/creacion)', 'youtuber', 'geocaching y busqueda de tesoros']}\n",
      "{'_id': ObjectId('629f93a66f4726a671830eb7'), 'age': 94, 'name': 'Fabián', 'hobbies': ['youtuber', 'modelismo con cerillas', 'acuarios', 'patchwork y colchas', 'karate', 'esports', 'kung fu']}\n",
      "{'_id': ObjectId('629f93a76f4726a67183100f'), 'age': 98, 'name': 'Lucía', 'hobbies': ['youtuber', 'conferencias(asistir a)', 'hockey de mesa (air hockey)', 'escalada', 'bibliofilia', 'pintura sobre seda', 'electronica', 'bmx (bicicleta de motocross)', 'pesca submarina']}\n"
     ]
    }
   ],
   "source": [
    "jubilados_youtubers = col.find({'age':{'$gt':65}, 'hobbies':'youtuber'})\n",
    "for doc in jubilados_youtubers:\n",
    "    print(doc)"
   ]
  },
  {
   "cell_type": "markdown",
   "id": "249d2021",
   "metadata": {},
   "source": [
    "Search for people with a name that start with an S"
   ]
  },
  {
   "cell_type": "code",
   "execution_count": 233,
   "id": "0be82009",
   "metadata": {},
   "outputs": [],
   "source": [
    "import re"
   ]
  },
  {
   "cell_type": "code",
   "execution_count": 232,
   "id": "36975f16",
   "metadata": {},
   "outputs": [
    {
     "name": "stdout",
     "output_type": "stream",
     "text": [
      "Trere are 56 documents with a name starting with m/M.\n"
     ]
    }
   ],
   "source": [
    "query = {\n",
    "\"name\": {\n",
    "\"$regex\": '^m.*', # name starts with m and is at least 2 words name.\n",
    "\"$options\" :'i' # case-insensitive\n",
    "}\n",
    "}\n",
    "\n",
    "print (f'Trere are {col.count_documents(query)} documents with a name starting with m/M.' )"
   ]
  },
  {
   "cell_type": "markdown",
   "id": "78f6f3f4",
   "metadata": {},
   "source": [
    "### 4. Generate Index for fast search"
   ]
  },
  {
   "cell_type": "code",
   "execution_count": 119,
   "id": "24642b10",
   "metadata": {},
   "outputs": [],
   "source": [
    "from pymongo import ASCENDING, DESCENDING"
   ]
  },
  {
   "cell_type": "code",
   "execution_count": 118,
   "id": "7e1ac841",
   "metadata": {},
   "outputs": [
    {
     "data": {
      "text/plain": [
       "'age_1'"
      ]
     },
     "execution_count": 118,
     "metadata": {},
     "output_type": "execute_result"
    }
   ],
   "source": [
    "col.create_index([('age', ASCENDING)]) "
   ]
  },
  {
   "cell_type": "markdown",
   "id": "8496cfc3",
   "metadata": {},
   "source": [
    "# Nivell / _Level_ 2"
   ]
  },
  {
   "cell_type": "markdown",
   "id": "7e66f58e",
   "metadata": {},
   "source": [
    "**- Exercici 1:**\n",
    "Carega algunes consultes senzilles a un Pandas Dataframe. \n",
    "\n",
    "_**- Exercise 1:**\n",
    "Charge some simple queries to a Panda's Data Frame._"
   ]
  },
  {
   "cell_type": "code",
   "execution_count": 108,
   "id": "724a9ce9",
   "metadata": {},
   "outputs": [
    {
     "data": {
      "text/html": [
       "<div>\n",
       "<style scoped>\n",
       "    .dataframe tbody tr th:only-of-type {\n",
       "        vertical-align: middle;\n",
       "    }\n",
       "\n",
       "    .dataframe tbody tr th {\n",
       "        vertical-align: top;\n",
       "    }\n",
       "\n",
       "    .dataframe thead th {\n",
       "        text-align: right;\n",
       "    }\n",
       "</style>\n",
       "<table border=\"1\" class=\"dataframe\">\n",
       "  <thead>\n",
       "    <tr style=\"text-align: right;\">\n",
       "      <th></th>\n",
       "      <th>_id</th>\n",
       "      <th>age</th>\n",
       "      <th>name</th>\n",
       "      <th>hobbies</th>\n",
       "    </tr>\n",
       "  </thead>\n",
       "  <tbody>\n",
       "    <tr>\n",
       "      <th>0</th>\n",
       "      <td>629f79916f4726a671830ea1</td>\n",
       "      <td>19</td>\n",
       "      <td>Isabel</td>\n",
       "      <td>[play cards, swimming]</td>\n",
       "    </tr>\n",
       "    <tr>\n",
       "      <th>1</th>\n",
       "      <td>629f93a66f4726a671830ec3</td>\n",
       "      <td>19</td>\n",
       "      <td>Clara</td>\n",
       "      <td>[chalkpaint (pintura de tiza), biatlon, minera...</td>\n",
       "    </tr>\n",
       "    <tr>\n",
       "      <th>2</th>\n",
       "      <td>629f93a66f4726a671830ed2</td>\n",
       "      <td>19</td>\n",
       "      <td>Guadalupe</td>\n",
       "      <td>[porcelana fria, visitar museos y exposiciones...</td>\n",
       "    </tr>\n",
       "    <tr>\n",
       "      <th>3</th>\n",
       "      <td>629f93a66f4726a671830f2f</td>\n",
       "      <td>19</td>\n",
       "      <td>Iris</td>\n",
       "      <td>[beisbol, hockey sobre hierba, kendo]</td>\n",
       "    </tr>\n",
       "    <tr>\n",
       "      <th>4</th>\n",
       "      <td>629f93a66f4726a671830f74</td>\n",
       "      <td>19</td>\n",
       "      <td>Saúl</td>\n",
       "      <td>[diseño de ropa (moda), mindfulness o atención...</td>\n",
       "    </tr>\n",
       "    <tr>\n",
       "      <th>...</th>\n",
       "      <td>...</td>\n",
       "      <td>...</td>\n",
       "      <td>...</td>\n",
       "      <td>...</td>\n",
       "    </tr>\n",
       "    <tr>\n",
       "      <th>439</th>\n",
       "      <td>629f93a66f4726a671830f61</td>\n",
       "      <td>104</td>\n",
       "      <td>América</td>\n",
       "      <td>[domino, moda (aficion a la moda)]</td>\n",
       "    </tr>\n",
       "    <tr>\n",
       "      <th>440</th>\n",
       "      <td>629f93a66f4726a671830fc7</td>\n",
       "      <td>104</td>\n",
       "      <td>Isabela</td>\n",
       "      <td>[esqui alpino, cata de cerveza, joyas y bisute...</td>\n",
       "    </tr>\n",
       "    <tr>\n",
       "      <th>441</th>\n",
       "      <td>629f93a66f4726a671830ec0</td>\n",
       "      <td>105</td>\n",
       "      <td>Ángel</td>\n",
       "      <td>[petanca, invertir en bolsa, pesca recreativa,...</td>\n",
       "    </tr>\n",
       "    <tr>\n",
       "      <th>442</th>\n",
       "      <td>629f93a66f4726a671830f57</td>\n",
       "      <td>105</td>\n",
       "      <td>Alan</td>\n",
       "      <td>[]</td>\n",
       "    </tr>\n",
       "    <tr>\n",
       "      <th>443</th>\n",
       "      <td>629f93a76f4726a671831051</td>\n",
       "      <td>105</td>\n",
       "      <td>Maya</td>\n",
       "      <td>[caballo (montar/ hipica/ equitacion), parapen...</td>\n",
       "    </tr>\n",
       "  </tbody>\n",
       "</table>\n",
       "<p>444 rows × 4 columns</p>\n",
       "</div>"
      ],
      "text/plain": [
       "                          _id  age       name  \\\n",
       "0    629f79916f4726a671830ea1   19     Isabel   \n",
       "1    629f93a66f4726a671830ec3   19      Clara   \n",
       "2    629f93a66f4726a671830ed2   19  Guadalupe   \n",
       "3    629f93a66f4726a671830f2f   19       Iris   \n",
       "4    629f93a66f4726a671830f74   19       Saúl   \n",
       "..                        ...  ...        ...   \n",
       "439  629f93a66f4726a671830f61  104    América   \n",
       "440  629f93a66f4726a671830fc7  104    Isabela   \n",
       "441  629f93a66f4726a671830ec0  105      Ángel   \n",
       "442  629f93a66f4726a671830f57  105       Alan   \n",
       "443  629f93a76f4726a671831051  105       Maya   \n",
       "\n",
       "                                               hobbies  \n",
       "0                               [play cards, swimming]  \n",
       "1    [chalkpaint (pintura de tiza), biatlon, minera...  \n",
       "2    [porcelana fria, visitar museos y exposiciones...  \n",
       "3                [beisbol, hockey sobre hierba, kendo]  \n",
       "4    [diseño de ropa (moda), mindfulness o atención...  \n",
       "..                                                 ...  \n",
       "439                 [domino, moda (aficion a la moda)]  \n",
       "440  [esqui alpino, cata de cerveza, joyas y bisute...  \n",
       "441  [petanca, invertir en bolsa, pesca recreativa,...  \n",
       "442                                                 []  \n",
       "443  [caballo (montar/ hipica/ equitacion), parapen...  \n",
       "\n",
       "[444 rows x 4 columns]"
      ]
     },
     "execution_count": 108,
     "metadata": {},
     "output_type": "execute_result"
    }
   ],
   "source": [
    "df_over_18 = pd.DataFrame(list(col.find({'age':{'$gt':18}})))\n",
    "df_over_18"
   ]
  },
  {
   "cell_type": "markdown",
   "id": "adbd2a92",
   "metadata": {},
   "source": [
    "People having parapente as hobbie with an age greater than 65:"
   ]
  },
  {
   "cell_type": "code",
   "execution_count": 180,
   "id": "32f2654a",
   "metadata": {},
   "outputs": [
    {
     "data": {
      "text/html": [
       "<div>\n",
       "<style scoped>\n",
       "    .dataframe tbody tr th:only-of-type {\n",
       "        vertical-align: middle;\n",
       "    }\n",
       "\n",
       "    .dataframe tbody tr th {\n",
       "        vertical-align: top;\n",
       "    }\n",
       "\n",
       "    .dataframe thead th {\n",
       "        text-align: right;\n",
       "    }\n",
       "</style>\n",
       "<table border=\"1\" class=\"dataframe\">\n",
       "  <thead>\n",
       "    <tr style=\"text-align: right;\">\n",
       "      <th></th>\n",
       "      <th>_id</th>\n",
       "      <th>age</th>\n",
       "      <th>name</th>\n",
       "      <th>hobbies</th>\n",
       "    </tr>\n",
       "  </thead>\n",
       "  <tbody>\n",
       "    <tr>\n",
       "      <th>0</th>\n",
       "      <td>629f93a76f4726a671830fea</td>\n",
       "      <td>70</td>\n",
       "      <td>Olivia</td>\n",
       "      <td>[kick boxing, mindfulness o atención plena, pa...</td>\n",
       "    </tr>\n",
       "    <tr>\n",
       "      <th>1</th>\n",
       "      <td>629f93a66f4726a671830ed8</td>\n",
       "      <td>81</td>\n",
       "      <td>Estrella</td>\n",
       "      <td>[cama elastica, modelismo (aviones/coches/barc...</td>\n",
       "    </tr>\n",
       "    <tr>\n",
       "      <th>2</th>\n",
       "      <td>629f93a66f4726a671830edf</td>\n",
       "      <td>90</td>\n",
       "      <td>Ezequiel</td>\n",
       "      <td>[parapente, moda (aficion a la moda), balonces...</td>\n",
       "    </tr>\n",
       "    <tr>\n",
       "      <th>3</th>\n",
       "      <td>629f93a76f4726a671830fed</td>\n",
       "      <td>94</td>\n",
       "      <td>Ximena</td>\n",
       "      <td>[geocaching y busqueda de tesoros, snowbike, j...</td>\n",
       "    </tr>\n",
       "    <tr>\n",
       "      <th>4</th>\n",
       "      <td>629f93a76f4726a671831051</td>\n",
       "      <td>105</td>\n",
       "      <td>Maya</td>\n",
       "      <td>[caballo (montar/ hipica/ equitacion), parapen...</td>\n",
       "    </tr>\n",
       "  </tbody>\n",
       "</table>\n",
       "</div>"
      ],
      "text/plain": [
       "                        _id  age      name  \\\n",
       "0  629f93a76f4726a671830fea   70    Olivia   \n",
       "1  629f93a66f4726a671830ed8   81  Estrella   \n",
       "2  629f93a66f4726a671830edf   90  Ezequiel   \n",
       "3  629f93a76f4726a671830fed   94    Ximena   \n",
       "4  629f93a76f4726a671831051  105      Maya   \n",
       "\n",
       "                                             hobbies  \n",
       "0  [kick boxing, mindfulness o atención plena, pa...  \n",
       "1  [cama elastica, modelismo (aviones/coches/barc...  \n",
       "2  [parapente, moda (aficion a la moda), balonces...  \n",
       "3  [geocaching y busqueda de tesoros, snowbike, j...  \n",
       "4  [caballo (montar/ hipica/ equitacion), parapen...  "
      ]
     },
     "execution_count": 180,
     "metadata": {},
     "output_type": "execute_result"
    }
   ],
   "source": [
    "df_parapente_gt65 = pd.DataFrame(list(col.find({'age': {'$gt':65}, 'hobbies':'parapente'})))\n",
    "df_parapente_gt65"
   ]
  },
  {
   "cell_type": "markdown",
   "id": "b68e6fbb",
   "metadata": {},
   "source": [
    "# Nivell / _Level_ 3"
   ]
  },
  {
   "cell_type": "markdown",
   "id": "72163d27",
   "metadata": {},
   "source": [
    " **- Exercici 1:** Genera un resum estadístic de la informació que conté la base de dades.\n",
    "\n",
    " _**- Exercise 1:** Generate an estadistic abstract of the information contained in the data base._"
   ]
  },
  {
   "cell_type": "code",
   "execution_count": 110,
   "id": "d5c5d6b9",
   "metadata": {},
   "outputs": [
    {
     "data": {
      "text/html": [
       "<div>\n",
       "<style scoped>\n",
       "    .dataframe tbody tr th:only-of-type {\n",
       "        vertical-align: middle;\n",
       "    }\n",
       "\n",
       "    .dataframe tbody tr th {\n",
       "        vertical-align: top;\n",
       "    }\n",
       "\n",
       "    .dataframe thead th {\n",
       "        text-align: right;\n",
       "    }\n",
       "</style>\n",
       "<table border=\"1\" class=\"dataframe\">\n",
       "  <thead>\n",
       "    <tr style=\"text-align: right;\">\n",
       "      <th></th>\n",
       "      <th>_id</th>\n",
       "      <th>age</th>\n",
       "      <th>name</th>\n",
       "      <th>hobbies</th>\n",
       "    </tr>\n",
       "  </thead>\n",
       "  <tbody>\n",
       "    <tr>\n",
       "      <th>0</th>\n",
       "      <td>629f79916f4726a671830e9f</td>\n",
       "      <td>33</td>\n",
       "      <td>Marc</td>\n",
       "      <td>[cinema, reading books, coding python]</td>\n",
       "    </tr>\n",
       "    <tr>\n",
       "      <th>1</th>\n",
       "      <td>629f79916f4726a671830ea0</td>\n",
       "      <td>55</td>\n",
       "      <td>Helena</td>\n",
       "      <td>[dancing, cooking]</td>\n",
       "    </tr>\n",
       "    <tr>\n",
       "      <th>2</th>\n",
       "      <td>629f79916f4726a671830ea1</td>\n",
       "      <td>19</td>\n",
       "      <td>Isabel</td>\n",
       "      <td>[play cards, swimming]</td>\n",
       "    </tr>\n",
       "    <tr>\n",
       "      <th>3</th>\n",
       "      <td>629f79916f4726a671830ea2</td>\n",
       "      <td>48</td>\n",
       "      <td>Marc</td>\n",
       "      <td>[hockey, canyoning, reading books, coding python]</td>\n",
       "    </tr>\n",
       "    <tr>\n",
       "      <th>4</th>\n",
       "      <td>629f7ff55a873247ae824ee6</td>\n",
       "      <td>60</td>\n",
       "      <td>George</td>\n",
       "      <td>[travel, good restaurants]</td>\n",
       "    </tr>\n",
       "    <tr>\n",
       "      <th>...</th>\n",
       "      <td>...</td>\n",
       "      <td>...</td>\n",
       "      <td>...</td>\n",
       "      <td>...</td>\n",
       "    </tr>\n",
       "    <tr>\n",
       "      <th>499</th>\n",
       "      <td>629f93a76f4726a671831093</td>\n",
       "      <td>92</td>\n",
       "      <td>Lucián</td>\n",
       "      <td>[programacion informatica, baile con barra (po...</td>\n",
       "    </tr>\n",
       "    <tr>\n",
       "      <th>500</th>\n",
       "      <td>629f93a76f4726a671831094</td>\n",
       "      <td>57</td>\n",
       "      <td>Ariana</td>\n",
       "      <td>[flores secas (trabajar con), aerobic, robotic...</td>\n",
       "    </tr>\n",
       "    <tr>\n",
       "      <th>501</th>\n",
       "      <td>629f93a76f4726a671831095</td>\n",
       "      <td>20</td>\n",
       "      <td>Arturo</td>\n",
       "      <td>[escalada, documentales (aficion a los), salud...</td>\n",
       "    </tr>\n",
       "    <tr>\n",
       "      <th>502</th>\n",
       "      <td>629f93a76f4726a671831096</td>\n",
       "      <td>78</td>\n",
       "      <td>Amanda</td>\n",
       "      <td>[]</td>\n",
       "    </tr>\n",
       "    <tr>\n",
       "      <th>503</th>\n",
       "      <td>629f93a76f4726a671831097</td>\n",
       "      <td>60</td>\n",
       "      <td>Guadalupe</td>\n",
       "      <td>[]</td>\n",
       "    </tr>\n",
       "  </tbody>\n",
       "</table>\n",
       "<p>504 rows × 4 columns</p>\n",
       "</div>"
      ],
      "text/plain": [
       "                          _id  age       name  \\\n",
       "0    629f79916f4726a671830e9f   33       Marc   \n",
       "1    629f79916f4726a671830ea0   55     Helena   \n",
       "2    629f79916f4726a671830ea1   19     Isabel   \n",
       "3    629f79916f4726a671830ea2   48       Marc   \n",
       "4    629f7ff55a873247ae824ee6   60     George   \n",
       "..                        ...  ...        ...   \n",
       "499  629f93a76f4726a671831093   92     Lucián   \n",
       "500  629f93a76f4726a671831094   57     Ariana   \n",
       "501  629f93a76f4726a671831095   20     Arturo   \n",
       "502  629f93a76f4726a671831096   78     Amanda   \n",
       "503  629f93a76f4726a671831097   60  Guadalupe   \n",
       "\n",
       "                                               hobbies  \n",
       "0               [cinema, reading books, coding python]  \n",
       "1                                   [dancing, cooking]  \n",
       "2                               [play cards, swimming]  \n",
       "3    [hockey, canyoning, reading books, coding python]  \n",
       "4                           [travel, good restaurants]  \n",
       "..                                                 ...  \n",
       "499  [programacion informatica, baile con barra (po...  \n",
       "500  [flores secas (trabajar con), aerobic, robotic...  \n",
       "501  [escalada, documentales (aficion a los), salud...  \n",
       "502                                                 []  \n",
       "503                                                 []  \n",
       "\n",
       "[504 rows x 4 columns]"
      ]
     },
     "execution_count": 110,
     "metadata": {},
     "output_type": "execute_result"
    }
   ],
   "source": [
    "df_all = pd.DataFrame(list(col.find())) #generates a data frame with all the data in the collection\n",
    "df_all"
   ]
  },
  {
   "cell_type": "markdown",
   "id": "953c5ce8",
   "metadata": {},
   "source": [
    "To check the statistics of the only numerical column (age):"
   ]
  },
  {
   "cell_type": "code",
   "execution_count": 112,
   "id": "935576d5",
   "metadata": {},
   "outputs": [
    {
     "data": {
      "text/html": [
       "<div>\n",
       "<style scoped>\n",
       "    .dataframe tbody tr th:only-of-type {\n",
       "        vertical-align: middle;\n",
       "    }\n",
       "\n",
       "    .dataframe tbody tr th {\n",
       "        vertical-align: top;\n",
       "    }\n",
       "\n",
       "    .dataframe thead th {\n",
       "        text-align: right;\n",
       "    }\n",
       "</style>\n",
       "<table border=\"1\" class=\"dataframe\">\n",
       "  <thead>\n",
       "    <tr style=\"text-align: right;\">\n",
       "      <th></th>\n",
       "      <th>age</th>\n",
       "    </tr>\n",
       "  </thead>\n",
       "  <tbody>\n",
       "    <tr>\n",
       "      <th>count</th>\n",
       "      <td>504.000000</td>\n",
       "    </tr>\n",
       "    <tr>\n",
       "      <th>mean</th>\n",
       "      <td>55.535714</td>\n",
       "    </tr>\n",
       "    <tr>\n",
       "      <th>std</th>\n",
       "      <td>27.876373</td>\n",
       "    </tr>\n",
       "    <tr>\n",
       "      <th>min</th>\n",
       "      <td>10.000000</td>\n",
       "    </tr>\n",
       "    <tr>\n",
       "      <th>25%</th>\n",
       "      <td>32.000000</td>\n",
       "    </tr>\n",
       "    <tr>\n",
       "      <th>50%</th>\n",
       "      <td>53.500000</td>\n",
       "    </tr>\n",
       "    <tr>\n",
       "      <th>75%</th>\n",
       "      <td>79.250000</td>\n",
       "    </tr>\n",
       "    <tr>\n",
       "      <th>max</th>\n",
       "      <td>105.000000</td>\n",
       "    </tr>\n",
       "  </tbody>\n",
       "</table>\n",
       "</div>"
      ],
      "text/plain": [
       "              age\n",
       "count  504.000000\n",
       "mean    55.535714\n",
       "std     27.876373\n",
       "min     10.000000\n",
       "25%     32.000000\n",
       "50%     53.500000\n",
       "75%     79.250000\n",
       "max    105.000000"
      ]
     },
     "execution_count": 112,
     "metadata": {},
     "output_type": "execute_result"
    }
   ],
   "source": [
    "df_all.describe()"
   ]
  },
  {
   "cell_type": "markdown",
   "id": "73c3c7a1",
   "metadata": {},
   "source": [
    "Age range cover is as defined 10 to 105. The average age is 53 and it looks the random assignation has performed an equally distribution of ages. Let's check it graphycally:"
   ]
  },
  {
   "cell_type": "code",
   "execution_count": 113,
   "id": "43e49571",
   "metadata": {},
   "outputs": [],
   "source": [
    "import matplotlib.pyplot as plt\n",
    "import seaborn as sns"
   ]
  },
  {
   "cell_type": "code",
   "execution_count": 215,
   "metadata": {},
   "outputs": [
    {
     "name": "stderr",
     "output_type": "stream",
     "text": [
      "c:\\Users\\march\\anaconda3\\envs\\Scrapping_and_BBDD\\lib\\site-packages\\seaborn\\distributions.py:2619: FutureWarning: `distplot` is a deprecated function and will be removed in a future version. Please adapt your code to use either `displot` (a figure-level function with similar flexibility) or `histplot` (an axes-level function for histograms).\n",
      "  warnings.warn(msg, FutureWarning)\n"
     ]
    },
    {
     "data": {
      "text/plain": [
       "Text(0.5, 0, 'Age (years)')"
      ]
     },
     "execution_count": 215,
     "metadata": {},
     "output_type": "execute_result"
    },
    {
     "data": {
      "image/png": "[encoded data removed]",
      "text/plain": [
       "<Figure size 432x288 with 1 Axes>"
      ]
     },
     "metadata": {},
     "output_type": "display_data"
    }
   ],
   "source": [
    "sns.distplot(list(df_all.age), bins=96)\n",
    "plt.xlabel('Age (years)')\n",
    "#list(df_all.groupby('age').count()._id)"
   ]
  },
  {
   "cell_type": "markdown",
   "id": "d7f22f19",
   "metadata": {},
   "source": [
    "Ages are quite uniformally distributed."
   ]
  },
  {
   "cell_type": "code",
   "execution_count": 137,
   "id": "86a370b8",
   "metadata": {},
   "outputs": [
    {
     "data": {
      "text/plain": [
       "186"
      ]
     },
     "execution_count": 137,
     "metadata": {},
     "output_type": "execute_result"
    }
   ],
   "source": [
    "df_all.name.nunique()"
   ]
  },
  {
   "cell_type": "markdown",
   "id": "1b04c866",
   "metadata": {},
   "source": [
    "In the DB there are 186 different names and the top 5 are:"
   ]
  },
  {
   "cell_type": "code",
   "execution_count": null,
   "id": "a481bdba",
   "metadata": {},
   "outputs": [
    {
     "data": {
      "text/plain": [
       "name\n",
       "María      7\n",
       "Samuel     6\n",
       "Perla      6\n",
       "Emanuel    6\n",
       "Martín     6\n",
       "Name: _id, dtype: int64"
      ]
     },
     "execution_count": 134,
     "metadata": {},
     "output_type": "execute_result"
    }
   ],
   "source": [
    "df_all.groupby('name').count().sort_values('age',ascending=False)._id.head(5)"
   ]
  },
  {
   "cell_type": "markdown",
   "id": "5eb7e168",
   "metadata": {},
   "source": [
    "Let's check the number and the distribution of the different hobbies:"
   ]
  },
  {
   "cell_type": "code",
   "execution_count": null,
   "id": "414d71b6",
   "metadata": {},
   "outputs": [
    {
     "data": {
      "text/plain": [
       "5.053571428571429"
      ]
     },
     "execution_count": 153,
     "metadata": {},
     "output_type": "execute_result"
    }
   ],
   "source": [
    "df_all['number_hobbies']=df_all.hobbies.str.len()\n",
    "df_all.number_hobbies.mean()"
   ]
  },
  {
   "cell_type": "markdown",
   "id": "4af5f433",
   "metadata": {},
   "source": [
    "The average number of hobbies per person is 5."
   ]
  },
  {
   "cell_type": "code",
   "execution_count": 155,
   "id": "2dc72601",
   "metadata": {},
   "outputs": [
    {
     "data": {
      "text/plain": [
       "2547"
      ]
     },
     "execution_count": 155,
     "metadata": {},
     "output_type": "execute_result"
    }
   ],
   "source": [
    "list_hobbies=[]\n",
    "for list_col in df_all.hobbies:\n",
    "    list_hobbies=list_hobbies + list_col\n",
    "\n",
    "len(list_hobbies)\n"
   ]
  },
  {
   "cell_type": "markdown",
   "id": "86414dd7",
   "metadata": {},
   "source": [
    "To check the top ten hobbies:"
   ]
  },
  {
   "cell_type": "code",
   "execution_count": 156,
   "id": "afe31874",
   "metadata": {},
   "outputs": [],
   "source": [
    "from collections import Counter"
   ]
  },
  {
   "cell_type": "code",
   "execution_count": 166,
   "id": "7af1a5be",
   "metadata": {},
   "outputs": [],
   "source": [
    "dict_hobbies=dict(Counter(list_hobbies))"
   ]
  },
  {
   "cell_type": "code",
   "execution_count": 171,
   "id": "15f8d1aa",
   "metadata": {},
   "outputs": [],
   "source": [
    "import operator\n",
    "sortedDict = sorted(dict_hobbies.items(), key=operator.itemgetter(1),reverse=True)"
   ]
  },
  {
   "cell_type": "code",
   "execution_count": 173,
   "id": "0e29f1bc",
   "metadata": {},
   "outputs": [
    {
     "data": {
      "text/plain": [
       "[('tejer (con un telar casero)', 17),\n",
       " ('manga y anime', 16),\n",
       " ('airsoft', 15),\n",
       " ('dardos (lanzar dardos)', 14),\n",
       " ('radio (aficion a la)', 14),\n",
       " ('juegos de cartas o naipes', 13),\n",
       " ('astrologia', 13),\n",
       " ('esports', 13),\n",
       " ('patinaje sobre hielo', 13),\n",
       " ('restauracion de muebles', 13)]"
      ]
     },
     "execution_count": 173,
     "metadata": {},
     "output_type": "execute_result"
    }
   ],
   "source": [
    "sortedDict[:10]"
   ]
  },
  {
   "cell_type": "code",
   "execution_count": 59,
   "id": "a5553f8c",
   "metadata": {
    "ExecuteTime": {
     "end_time": "2022-05-18T07:58:51.285222Z",
     "start_time": "2022-05-18T07:58:51.270263Z"
    }
   },
   "outputs": [],
   "source": [
    "client.close()"
   ]
  },
  {
   "cell_type": "markdown",
   "id": "3787c319",
   "metadata": {},
   "source": [
    "# Conclusions"
   ]
  },
  {
   "cell_type": "markdown",
   "id": "a5db97df",
   "metadata": {},
   "source": [
    "This exercise was useful to learn:\n",
    "1. How to create an account in MongoDB and install all required programs and libraries.\n",
    "2. Create a Data Base (local or hosted)  and its structure: collection(~table) + documents (~registers).\n",
    "3. Update or delete DDBB, collections or documents using Python. (same can be performed in Mongo shell comand)\n",
    "4. Find (query) searches according different conditions and export them to panda's data frame.\n",
    "5. Practice to summarise relevant info from a data base."
   ]
  },
  {
   "cell_type": "markdown",
   "id": "b4cfd31f",
   "metadata": {},
   "source": [
    "To generate file with the libraries installed in the environment used to run the notebook:"
   ]
  },
  {
   "cell_type": "code",
   "execution_count": 38,
   "id": "995b706c",
   "metadata": {},
   "outputs": [],
   "source": [
    "!pip list > requirements.txt "
   ]
  },
  {
   "cell_type": "markdown",
   "id": "7cdc8808",
   "metadata": {
    "ExecuteTime": {
     "end_time": "2022-05-16T09:40:58.284424Z",
     "start_time": "2022-05-16T09:40:58.272457Z"
    }
   },
   "source": [
    "Tutorials MongoDB:\n",
    " * [Video de instalación de MongoDB y como funciona](https://www.youtube.com/watch?v=c8n6JsQuX2A)\n",
    " * [Crash Course MongoDB](https://www.youtube.com/watch?v=qWYx5neOh2s)\n",
    " * [Video tutorial para trabajar con DDBB y MongoDB en local](https://www.youtube.com/watch?v=pJO5gKxzsco)\n",
    " * [Use of regex in the search in MongoDB](https://www.youtube.com/watch?v=DxjSG8jUGs8)\n",
    " * [Use of regex in the search in MongoDB 2](https://www.youtube.com/watch?v=ph2CYfAfM_o)"
   ]
  },
  {
   "cell_type": "markdown",
   "id": "6d0e20d3",
   "metadata": {},
   "source": []
  }
 ],
 "metadata": {
  "interpreter": {
   "hash": "4e40ef67ce1bbc9774e3d9c3c2867959c2d135b6c3d68f4d44ef323061ee0401"
  },
  "kernelspec": {
   "display_name": "Python 3.7.12 ('Scrapping_and_BBDD')",
   "language": "python",
   "name": "python3"
  },
  "language_info": {
   "codemirror_mode": {
    "name": "ipython",
    "version": 3
   },
   "file_extension": ".py",
   "mimetype": "text/x-python",
   "name": "python",
   "nbconvert_exporter": "python",
   "pygments_lexer": "ipython3",
   "version": "3.7.12"
  },
  "latex_envs": {
   "LaTeX_envs_menu_present": true,
   "autoclose": false,
   "autocomplete": true,
   "bibliofile": "biblio.bib",
   "cite_by": "apalike",
   "current_citInitial": 1,
   "eqLabelWithNumbers": true,
   "eqNumInitial": 1,
   "hotkeys": {
    "equation": "Ctrl-E",
    "itemize": "Ctrl-I"
   },
   "labels_anchors": false,
   "latex_user_defs": false,
   "report_style_numbering": false,
   "user_envs_cfg": false
  }
 },
 "nbformat": 4,
 "nbformat_minor": 5
}
