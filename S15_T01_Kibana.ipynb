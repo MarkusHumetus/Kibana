{
 "cells": [
  {
   "cell_type": "markdown",
   "id": "dcd6be5a",
   "metadata": {},
   "source": []
  },
  {
   "cell_type": "code",
   "execution_count": 2,
   "id": "2fd8f454",
   "metadata": {},
   "outputs": [],
   "source": [
    "import numpy as np\n",
    "import pandas as pd"
   ]
  },
  {
   "cell_type": "markdown",
   "id": "1aebc6c6",
   "metadata": {},
   "source": [
    "## Descripció / _Description_"
   ]
  },
  {
   "cell_type": "markdown",
   "id": "81fbe001",
   "metadata": {},
   "source": [
    "Comencem a familiaritzar-nos la visualització interactiva de gràfics mitjançant Kibana.\n",
    "\n",
    "_Start getting familiar with interactive visualizations of graphics with Kibana._"
   ]
  },
  {
   "cell_type": "markdown",
   "id": "37c20a27",
   "metadata": {},
   "source": [
    "First step is logging in the [Elastic service](https://www.elastic.co/) for the 14 days trial. The graphical tools are under the sections of **_Analytics_**.  There, you can practice with your own data sets or one can play with three different datasets.  \n"
   ]
  },
  {
   "cell_type": "markdown",
   "id": "317c79e2",
   "metadata": {},
   "source": [
    "# Nivell / _Level_ 1"
   ]
  },
  {
   "cell_type": "markdown",
   "id": "432690a4",
   "metadata": {},
   "source": [
    "**- Exercici 1:**\n",
    "Descarrega't Kibana i mostra algunes gràfiques utilitzant conjunts de dades d'Exemple.\n",
    "\n",
    "_**- Exercise\n",
    " 1:**\n",
    "Download Kibana and show some plots by using data sets from examples._"
   ]
  },
  {
   "cell_type": "markdown",
   "id": "080c60d5",
   "metadata": {},
   "source": [
    "I use the data set 'kibana_sample_data_ecommerce'.This data set for the last 30 days contains 47 different fields, which include information from costumer, manufacturer, product, purchases, locations of transactions, ... (all kind of data types) for more than 1700 entries. \n",
    "\n",
    "\n",
    "From this data I get some different plots just training and learning:"
   ]
  },
  {
   "cell_type": "markdown",
   "id": "3b548efe",
   "metadata": {},
   "source": [
    "**Sells ratio depending on the day of the week**"
   ]
  },
  {
   "cell_type": "markdown",
   "id": "ee282b71",
   "metadata": {},
   "source": [
    "<img src=\"Sells sliced by day of week.png\">"
   ]
  },
  {
   "cell_type": "markdown",
   "id": "10cd99d6",
   "metadata": {},
   "source": [
    "**Total sales Revenue for men during last 7 days**"
   ]
  },
  {
   "cell_type": "markdown",
   "id": "62724d22",
   "metadata": {},
   "source": [
    "<img src=\"Total sales Revenue_Last 7 days_men.png\">"
   ]
  },
  {
   "cell_type": "markdown",
   "id": "ad0823d8",
   "metadata": {},
   "source": [
    "**Price ranges (max, min and average) for the top 5 manufacturers during last 30 days**"
   ]
  },
  {
   "cell_type": "markdown",
   "id": "356a96be",
   "metadata": {},
   "source": [
    "<img src=\"Price ranges for the top 5 bestseller companies.png\">"
   ]
  },
  {
   "cell_type": "markdown",
   "id": "4b5dffa3",
   "metadata": {},
   "source": []
  },
  {
   "cell_type": "markdown",
   "id": "8496cfc3",
   "metadata": {},
   "source": [
    "# Nivell / _Level_ 2"
   ]
  },
  {
   "cell_type": "markdown",
   "id": "95f1eefd",
   "metadata": {},
   "source": [
    "**- Exercici 1:**\n",
    "Implementa un dashboard que visualitzi interactivament les dades que triïs.\n",
    "\n",
    "_**- Exercise 1:**\n",
    "Implement a dashboard to visualize interactively the chosen data._"
   ]
  },
  {
   "cell_type": "markdown",
   "id": "1bce4e03",
   "metadata": {},
   "source": [
    "  It was implemented a [Dashboard](https://my-first-deployment-8de853.kb.us-central1.gcp.cloud.es.io:9243/app/r/s/g9aaO) to visualize data for products interactively. (clic on Dashboard to be redirected to the interactive dashboard in the browser) **User and password of Elasticsearch is required!!**\n",
    "\n",
    "  Another way to visualize is to open the dashboard printed as pdf in a browser, executing next cell."
   ]
  },
  {
   "cell_type": "code",
   "execution_count": 9,
   "id": "81fd2028",
   "metadata": {},
   "outputs": [
    {
     "data": {
      "text/plain": [
       "True"
      ]
     },
     "execution_count": 9,
     "metadata": {},
     "output_type": "execute_result"
    }
   ],
   "source": [
    "import webbrowser as wb\n",
    "wb.open_new('Dashboard for products.pdf')"
   ]
  },
  {
   "cell_type": "markdown",
   "id": "410a7858",
   "metadata": {},
   "source": [
    "# Nivell / _Level_ 3"
   ]
  },
  {
   "cell_type": "markdown",
   "id": "1e3c21d6",
   "metadata": {},
   "source": [
    "**- Exercici 1:**\n",
    "Implementa un dashboard que generi gràfics utilitzant cadascun dels diferents tipus de gràfics que ofereix Kibana.\n",
    "\n",
    "_**- Exercise 1:**\n",
    "Implement a dashboard which generate graphs of all kinds available in Kibana._"
   ]
  },
  {
   "cell_type": "markdown",
   "id": "34667434",
   "metadata": {},
   "source": [
    "There is 7 different types of plots in Kibanna: \n",
    " * Tabular\n",
    " * Bar\n",
    " * Goal and single value\n",
    " * Line and area\n",
    " * Magnitude\n",
    " * Map\n",
    " * Proportion."
   ]
  },
  {
   "cell_type": "code",
   "execution_count": null,
   "id": "ba312ea6",
   "metadata": {},
   "outputs": [],
   "source": []
  },
  {
   "cell_type": "code",
   "execution_count": null,
   "id": "3ec5415b",
   "metadata": {},
   "outputs": [],
   "source": []
  },
  {
   "cell_type": "code",
   "execution_count": null,
   "id": "ac25fcad",
   "metadata": {},
   "outputs": [],
   "source": []
  },
  {
   "cell_type": "markdown",
   "id": "3787c319",
   "metadata": {},
   "source": [
    "# Conclusions"
   ]
  },
  {
   "cell_type": "markdown",
   "id": "a5db97df",
   "metadata": {},
   "source": [
    "This exercise was useful to learn:\n",
    "1. How to install Kibana and elasticsearch.\n",
    "2. Generate different plots and dashboards from a data set of Kibana (designed to do training)."
   ]
  },
  {
   "cell_type": "markdown",
   "id": "b4cfd31f",
   "metadata": {},
   "source": [
    "To generate file with the libraries installed in the environment used to run the notebook:"
   ]
  },
  {
   "cell_type": "code",
   "execution_count": 38,
   "id": "995b706c",
   "metadata": {},
   "outputs": [],
   "source": [
    "!pip list > requirements.txt "
   ]
  },
  {
   "cell_type": "markdown",
   "id": "6d0e20d3",
   "metadata": {},
   "source": []
  }
 ],
 "metadata": {
  "kernelspec": {
   "display_name": "Python 3.7.12 ('EDA_i_ML_37')",
   "language": "python",
   "name": "python3"
  },
  "language_info": {
   "codemirror_mode": {
    "name": "ipython",
    "version": 3
   },
   "file_extension": ".py",
   "mimetype": "text/x-python",
   "name": "python",
   "nbconvert_exporter": "python",
   "pygments_lexer": "ipython3",
   "version": "3.7.12"
  },
  "latex_envs": {
   "LaTeX_envs_menu_present": true,
   "autoclose": false,
   "autocomplete": true,
   "bibliofile": "biblio.bib",
   "cite_by": "apalike",
   "current_citInitial": 1,
   "eqLabelWithNumbers": true,
   "eqNumInitial": 1,
   "hotkeys": {
    "equation": "Ctrl-E",
    "itemize": "Ctrl-I"
   },
   "labels_anchors": false,
   "latex_user_defs": false,
   "report_style_numbering": false,
   "user_envs_cfg": false
  },
  "vscode": {
   "interpreter": {
    "hash": "5f47ed41b184a58013d23a9edf20bf096ea20fc31e35ba23cb9e7edce9e72725"
   }
  }
 },
 "nbformat": 4,
 "nbformat_minor": 5
}
